{
  "nbformat": 4,
  "nbformat_minor": 0,
  "metadata": {
    "colab": {
      "name": "Tic-Tac-Toe.ipynb",
      "provenance": [],
      "private_outputs": true,
      "collapsed_sections": [],
      "authorship_tag": "ABX9TyPmyItBFfPfHaXrb2gQNoo7",
      "include_colab_link": true
    },
    "kernelspec": {
      "name": "python3",
      "display_name": "Python 3"
    }
  },
  "cells": [
    {
      "cell_type": "markdown",
      "metadata": {
        "id": "view-in-github",
        "colab_type": "text"
      },
      "source": [
        "<a href=\"https://colab.research.google.com/github/shwethaar/Learning-Python/blob/master/Tic_Tac_Toe.ipynb\" target=\"_parent\"><img src=\"https://colab.research.google.com/assets/colab-badge.svg\" alt=\"Open In Colab\"/></a>"
      ]
    },
    {
      "cell_type": "code",
      "metadata": {
        "id": "gk3pMe8PEK_O",
        "colab_type": "code",
        "colab": {}
      },
      "source": [
        "from random import randrange"
      ],
      "execution_count": null,
      "outputs": []
    },
    {
      "cell_type": "code",
      "metadata": {
        "id": "hszZ3byDnJS1",
        "colab_type": "code",
        "colab": {}
      },
      "source": [
        "def DisplayBoard(board):\n",
        "  print(\"+--------+--------+--------+\")\n",
        "  for i in range(3):\n",
        "    print(\"|         |         |         |\")\n",
        "    print(\"|\",board[i][0],\"| \",board[i][1],\"| \",board[i][2],\"|\",sep=\"   \")\n",
        "    print(\"|         |         |         |\")\n",
        "    print(\"+--------+--------+--------+\")\n",
        "  print(MakeListOfFreeFields(board))"
      ],
      "execution_count": null,
      "outputs": []
    },
    {
      "cell_type": "code",
      "metadata": {
        "id": "vfJn1allnT2R",
        "colab_type": "code",
        "colab": {}
      },
      "source": [
        "def EnterMove(board):\n",
        "  userpos = int(input(\"Enter the position:\"))\n",
        "  if (userpos in MakeListOfFreeFields(board)):\n",
        "    for i in range(3):\n",
        "      for j in range(3):\n",
        "        if (board[i][j]==userpos):\n",
        "          board[i][j]='O'\n",
        "  return board"
      ],
      "execution_count": null,
      "outputs": []
    },
    {
      "cell_type": "code",
      "metadata": {
        "id": "H0au-3u1naOp",
        "colab_type": "code",
        "colab": {}
      },
      "source": [
        "def MakeListOfFreeFields(board):\n",
        "  freefields=[]\n",
        "  for i in range(3):\n",
        "    for j in range(3):\n",
        "      if (board[i][j]!= 'X' and board[i][j]!= 'O'):\n",
        "        freefields.append(board[i][j])\n",
        "  return freefields"
      ],
      "execution_count": null,
      "outputs": []
    },
    {
      "cell_type": "code",
      "metadata": {
        "id": "X4aIKeCOnb7I",
        "colab_type": "code",
        "colab": {}
      },
      "source": [
        "def VictoryFor(board, sign):\n",
        "  flag = False\n",
        "  if (board[0][0]== sign and board[1][1]== sign and board[2][2] ==sign):\n",
        "    flag=True\n",
        "  if (board[0][2]==sign and board[1][1]==sign and board[2][0]==sign):\n",
        "    flag = True\n",
        "  for i in range(3):\n",
        "    if (board[i][0]== sign and board[i][1]== sign and board[i][2] ==sign):\n",
        "      flag= True\n",
        "      break\n",
        "    if ( (board[0][i]== sign and board[1][i]== sign and board[2][i] ==sign)):\n",
        "      flag=True\n",
        "      break\n",
        "    return flag"
      ],
      "execution_count": null,
      "outputs": []
    },
    {
      "cell_type": "code",
      "metadata": {
        "id": "OWpdS4N9nd_J",
        "colab_type": "code",
        "colab": {}
      },
      "source": [
        "def DrawMove(board):\n",
        "  free_fields=MakeListOfFreeFields(board)\n",
        "  if (len(free_fields)!=0): \n",
        "    comp_pos= free_fields[randrange(len(free_fields))]\n",
        "  for i in range(3):\n",
        "    for j in range(3):\n",
        "      if (board[i][j]==comp_pos):\n",
        "        board[i][j]='X'\n",
        "\n",
        "  return board"
      ],
      "execution_count": null,
      "outputs": []
    },
    {
      "cell_type": "code",
      "metadata": {
        "id": "N7-UUMbYo2Bn",
        "colab_type": "code",
        "colab": {}
      },
      "source": [
        "board=[[1,2,3],[4,'X',6],[7,8,9]]\n",
        "DisplayBoard(board)\n",
        "count=1\n",
        "while (True):\n",
        "    if (VictoryFor(board,'O')==True):\n",
        "      print(\"You win!\")\n",
        "      break\n",
        "    elif (VictoryFor(board,'X')==True):\n",
        "      print(\"Computer wins!\")\n",
        "      break\n",
        "    if (count%2==0):\n",
        "      board = DrawMove(board)\n",
        "      DisplayBoard(board)\n",
        "      count = count+1\n",
        "    else:\n",
        "      board = EnterMove(board)\n",
        "      DisplayBoard(board)\n",
        "      count+=1"
      ],
      "execution_count": null,
      "outputs": []
    },
    {
      "cell_type": "code",
      "metadata": {
        "id": "Kuz_pVEokHcE",
        "colab_type": "code",
        "colab": {}
      },
      "source": [
        ""
      ],
      "execution_count": null,
      "outputs": []
    }
  ]
}
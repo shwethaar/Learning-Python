{
  "nbformat": 4,
  "nbformat_minor": 0,
  "metadata": {
    "colab": {
      "name": "Learning_102.ipynb",
      "provenance": [],
      "private_outputs": true,
      "collapsed_sections": [],
      "authorship_tag": "ABX9TyN/3lP3ilnnTD1MPWunR7Nk",
      "include_colab_link": true
    },
    "kernelspec": {
      "name": "python3",
      "display_name": "Python 3"
    }
  },
  "cells": [
    {
      "cell_type": "markdown",
      "metadata": {
        "id": "view-in-github",
        "colab_type": "text"
      },
      "source": [
        "<a href=\"https://colab.research.google.com/github/shwethaar/Learning-Python/blob/master/Learning_102.ipynb\" target=\"_parent\"><img src=\"https://colab.research.google.com/assets/colab-badge.svg\" alt=\"Open In Colab\"/></a>"
      ]
    },
    {
      "cell_type": "code",
      "metadata": {
        "id": "P4S70RgvIpkn",
        "colab_type": "code",
        "colab": {}
      },
      "source": [
        "#Factorial using recursion\n",
        "def factoriall(n):\n",
        "  while (n!=0):\n",
        "    return n*factorial(n-1)\n",
        "\n",
        "factorial(9)"
      ],
      "execution_count": null,
      "outputs": []
    },
    {
      "cell_type": "code",
      "metadata": {
        "id": "oZXlEJhzVz3k",
        "colab_type": "code",
        "colab": {}
      },
      "source": [
        "#Tuples\n",
        "var =123\n",
        "t1=(1,\"String\",2.84)\n",
        "t2=(2,)\n",
        "t3=(3,var)\n",
        "t1,t2,t3=t2,t3,t1\n",
        "print(t1,t2,t3,sep=\" ||| \")"
      ],
      "execution_count": null,
      "outputs": []
    },
    {
      "cell_type": "code",
      "metadata": {
        "id": "jp8vjDJnWEtv",
        "colab_type": "code",
        "colab": {}
      },
      "source": [
        "#dictionaries\n",
        "dict1 = {\"A\":1,\"B\":2,\"Z\":26}\n",
        "print(dict1.keys())\n",
        "\n",
        "for k in dict1.keys():\n",
        "  print(k,\":\" , dict1[k])\n",
        "\n",
        "for let,num in dict1.items():\n",
        "  print(let,\"-->\",num)\n",
        "\n",
        "dict1[\"A\"] = 234\n",
        "\n",
        "print(dict1)"
      ],
      "execution_count": null,
      "outputs": []
    },
    {
      "cell_type": "code",
      "metadata": {
        "id": "rf-1bO7kbCOI",
        "colab_type": "code",
        "colab": {}
      },
      "source": [
        "#Dictionaries 2\n",
        "for numbers in dict1.values():\n",
        "  print (numbers)\n",
        "\n",
        "dict1[\"C\"]=3\n",
        "print(dict1)\n",
        "\n",
        "dict1.update({\"D\":4})\n",
        "print(dict1)\n",
        "\n",
        "del dict1[\"Z\"]\n",
        "print(dict1)\n",
        "\n",
        "dict1.popitem()\n",
        "print(dict1)\n",
        "\n",
        "dct = {'one':'two', 'three':'one','two':'three'}\n",
        "v=dct['three']\n",
        "\n",
        "for k in range(len(dct)):\n",
        "  v=dct[v]\n",
        "print(v)"
      ],
      "execution_count": null,
      "outputs": []
    },
    {
      "cell_type": "code",
      "metadata": {
        "id": "ANkCAoULB2Sr",
        "colab_type": "code",
        "colab": {}
      },
      "source": [
        "# platform package\n",
        "from platform import *\n",
        "print(platform())\n",
        "print(machine())\n",
        "print(processor())\n",
        "print(system())\n",
        "print(version())\n",
        "print(python_implementation())\n",
        "print(python_version())\n"
      ],
      "execution_count": null,
      "outputs": []
    },
    {
      "cell_type": "code",
      "metadata": {
        "id": "OTfAK6IHpqII",
        "colab_type": "code",
        "colab": {}
      },
      "source": [
        "#Exception Handling\n",
        "try:\n",
        "  print(\"1st statement\")\n",
        "  x=int(input(\"Enter a number here:\"))\n",
        "  print(5/x)\n",
        "  print(\"This will not be printed in case an exception is raised during the division\")\n",
        "except:\n",
        "  print(\"A division by zero error -- enter valid value for the division!\")\n",
        "print(\"Statement outside try-except\")"
      ],
      "execution_count": null,
      "outputs": []
    }
  ]
}
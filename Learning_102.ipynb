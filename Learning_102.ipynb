{
  "nbformat": 4,
  "nbformat_minor": 0,
  "metadata": {
    "colab": {
      "name": "Learning_102.ipynb",
      "provenance": [],
      "private_outputs": true,
      "collapsed_sections": [],
      "authorship_tag": "ABX9TyOJuGpc94nSrHVo/ZdRwvpJ",
      "include_colab_link": true
    },
    "kernelspec": {
      "name": "python3",
      "display_name": "Python 3"
    }
  },
  "cells": [
    {
      "cell_type": "markdown",
      "metadata": {
        "id": "view-in-github",
        "colab_type": "text"
      },
      "source": [
        "<a href=\"https://colab.research.google.com/github/shwethaar/Learning-Python/blob/master/Learning_102.ipynb\" target=\"_parent\"><img src=\"https://colab.research.google.com/assets/colab-badge.svg\" alt=\"Open In Colab\"/></a>"
      ]
    },
    {
      "cell_type": "code",
      "metadata": {
        "id": "P4S70RgvIpkn",
        "colab_type": "code",
        "colab": {}
      },
      "source": [
        "#Factorial using recursion\n",
        "def factoriall(n):\n",
        "  while (n!=0):\n",
        "    return n*factorial(n-1)\n",
        "\n",
        "factorial(9)"
      ],
      "execution_count": null,
      "outputs": []
    },
    {
      "cell_type": "code",
      "metadata": {
        "id": "oZXlEJhzVz3k",
        "colab_type": "code",
        "colab": {}
      },
      "source": [
        "#Tuples\n",
        "var =123\n",
        "t1=(1,\"String\",2.84)\n",
        "t2=(2,)\n",
        "t3=(3,var)\n",
        "t1,t2,t3=t2,t3,t1\n",
        "print(t1,t2,t3,sep=\" ||| \")"
      ],
      "execution_count": null,
      "outputs": []
    },
    {
      "cell_type": "code",
      "metadata": {
        "id": "jp8vjDJnWEtv",
        "colab_type": "code",
        "colab": {}
      },
      "source": [
        "#dictionaries\n",
        "dict1 = {\"A\":1,\"B\":2,\"Z\":26}\n",
        "print(dict1.keys())\n",
        "\n",
        "for k in dict1.keys():\n",
        "  print(k,\":\" , dict1[k])\n",
        "\n",
        "for let,num in dict1.items():\n",
        "  print(let,\"-->\",num)\n",
        "\n",
        "dict1[\"A\"] = 234\n",
        "\n",
        "print(dict1)"
      ],
      "execution_count": null,
      "outputs": []
    },
    {
      "cell_type": "code",
      "metadata": {
        "id": "rf-1bO7kbCOI",
        "colab_type": "code",
        "colab": {}
      },
      "source": [
        "#Dictionaries 2\n",
        "for numbers in dict1.values():\n",
        "  print (numbers)\n",
        "\n",
        "dict1[\"C\"]=3\n",
        "print(dict1)\n",
        "\n",
        "dict1.update({\"D\":4})\n",
        "print(dict1)\n",
        "\n",
        "del dict1[\"Z\"]\n",
        "print(dict1)\n",
        "\n",
        "dict1.popitem()\n",
        "print(dict1)\n",
        "\n",
        "dct = {'one':'two', 'three':'one','two':'three'}\n",
        "v=dct['three']\n",
        "\n",
        "for k in range(len(dct)):\n",
        "  v=dct[v]\n",
        "print(v)"
      ],
      "execution_count": null,
      "outputs": []
    },
    {
      "cell_type": "code",
      "metadata": {
        "id": "ANkCAoULB2Sr",
        "colab_type": "code",
        "colab": {}
      },
      "source": [
        "# platform package\n",
        "from platform import *\n",
        "print(platform())\n",
        "print(machine())\n",
        "print(processor())\n",
        "print(system())\n",
        "print(version())\n",
        "print(python_implementation())\n",
        "print(python_version())\n"
      ],
      "execution_count": null,
      "outputs": []
    },
    {
      "cell_type": "code",
      "metadata": {
        "id": "OTfAK6IHpqII",
        "colab_type": "code",
        "colab": {}
      },
      "source": [
        "#Exception Handling\n",
        "try:\n",
        "  print(\"1st statement\")\n",
        "  x=int(input(\"Enter a number here:\"))\n",
        "  print(5/x)\n",
        "  print(\"This will not be printed in case an exception is raised during the division\")\n",
        "except ZeroDivisionError :\n",
        "  print(\"A division by zero error -- enter valid value for the division!\")\n",
        "except ValueError:\n",
        "  print(\"Non-integer value entered. Enter only integers.\")\n",
        "except KeyboardInterrupt:\n",
        "  print(\"Program aborted manually.\")\n",
        "print(\"Statement outside try-except\")"
      ],
      "execution_count": null,
      "outputs": []
    },
    {
      "cell_type": "code",
      "metadata": {
        "id": "jCSwH-nXwm-D",
        "colab_type": "code",
        "colab": {}
      },
      "source": [
        "def readint(prompt, min, max):\n",
        "  try:\n",
        "    num = int (input(prompt))\n",
        "    if (num not in range(min,max+1)):\n",
        "      print(\"Error: the value is not within permitted range (\",min,\"..\",max,\")\")\n",
        "      readint(prompt,min,max)\n",
        "    elif (num in range(min,max+1)):\n",
        "      return (num)\n",
        "  except ValueError:\n",
        "    print(\"Error: wrong input\")\n",
        "    readint(prompt,min,max)\n",
        "\n",
        "v = readint(\"Enter a number from -10 to 10: \", -10, 10)\n",
        "print(\"The number is:\", v)"
      ],
      "execution_count": null,
      "outputs": []
    },
    {
      "cell_type": "code",
      "metadata": {
        "id": "QfXK1uLM7K1L",
        "colab_type": "code",
        "colab": {}
      },
      "source": [
        "# Demonstrating the ord() function :returns the argument's code point\n",
        "ch1 = 'a' \n",
        "ch2 = 'α' # space\n",
        "print(ord(ch1))\n",
        "print(ord(ch2))\n",
        "# Demonstrating the chr() function :returns character of the argument code point\n",
        "print(chr(99))\n",
        "print(chr(945))"
      ],
      "execution_count": null,
      "outputs": []
    },
    {
      "cell_type": "code",
      "metadata": {
        "id": "dVbMrDFp837G",
        "colab_type": "code",
        "colab": {}
      },
      "source": [
        "alpha = \"abdefg\"\n",
        "print(alpha[1:3])\n",
        "print(alpha[3:])\n",
        "print(alpha[:3])\n",
        "print(alpha[3:-2])\n",
        "print(alpha[-3:4])\n",
        "print(alpha[::2])\n",
        "print(alpha[1::2])\n",
        "print()\n",
        "print(alpha[::3])"
      ],
      "execution_count": null,
      "outputs": []
    },
    {
      "cell_type": "code",
      "metadata": {
        "id": "saeCgJ1-ASPt",
        "colab_type": "code",
        "colab": {}
      },
      "source": [
        "print(\"Alpha\".capitalize())\n",
        "print('ALPHA'.capitalize())\n",
        "print(' Alpha'.capitalize())\n",
        "print('123'.capitalize())\n",
        "print(\"δ\".capitalize())"
      ],
      "execution_count": null,
      "outputs": []
    },
    {
      "cell_type": "code",
      "metadata": {
        "id": "GzfhwbtQP9tL",
        "colab_type": "code",
        "colab": {}
      },
      "source": [
        "#remove whitespaces and return words as list without string functions\n",
        "def mysplit(strng):\n",
        "  words=[]\n",
        "  while (strng.find(\" \")>=0):\n",
        "    words.append(strng[:strng.index(\" \")])\n",
        "    strng = strng[strng.index(\" \")+1:]\n",
        "  words.append(strng[strng.rfind(\" \")+1:])\n",
        "  while (\"\" in  words):\n",
        "    words.remove(\"\")\n",
        "  return words\n",
        "\n",
        "print(mysplit(\"To be or not to be, that is the question\"))\n",
        "print(mysplit(\"To be or not to be,that is the question\"))\n",
        "print(mysplit(\"   \"))\n",
        "print(mysplit(\" abc \"))\n",
        "print(mysplit(\"\"))"
      ],
      "execution_count": null,
      "outputs": []
    },
    {
      "cell_type": "code",
      "metadata": {
        "id": "45FzKRSIXE5Y",
        "colab_type": "code",
        "colab": {}
      },
      "source": [
        "#Decoding Caesar Cipher\n",
        "text = input()\n",
        "code=[]\n",
        "for letter in text:\n",
        "  if (letter != \" \"):\n",
        "    if (letter != \"A\"):\n",
        "      code.append(chr(ord(letter)-1))\n",
        "    else:\n",
        "      code.append('Z')\n",
        "print(\"\".join(code))"
      ],
      "execution_count": null,
      "outputs": []
    },
    {
      "cell_type": "code",
      "metadata": {
        "id": "kS6RvWN9Y408",
        "colab_type": "code",
        "colab": {}
      },
      "source": [
        "#sum of entered line of numbers\n",
        "text = input()\n",
        "sum=0\n",
        "try:\n",
        "  if (text==\"\"):\n",
        "    raise\n",
        "  text = text.split()\n",
        "  for num in text:\n",
        "    sum+=float (num)\n",
        "  print(sum)\n",
        "except ValueError:\n",
        "  print(\"One of the entered values was non-numeric! Program aborted\")\n",
        "except:\n",
        "  print(\"Empty list!\")"
      ],
      "execution_count": null,
      "outputs": []
    },
    {
      "cell_type": "code",
      "metadata": {
        "id": "MPGtb-mxczlt",
        "colab_type": "code",
        "colab": {}
      },
      "source": [
        "iban = input().upper()\n",
        "iban =  iban.replace(\" \",\"\")\n",
        "if len(iban) not in range(15,31):\n",
        "  print(\"Entered IBAN has incorrect characters\")\n",
        "elif not iban.isalnum():\n",
        "  print(\"Entered IBAN has unacceptable characters\")\n",
        "else:\n",
        "  iban = iban[4:] + iban[0:4] \n",
        "  iban_replaced=\"\"\n",
        "  for ch in iban:\n",
        "    if ch.isdigit():\n",
        "      iban_replaced += ch\n",
        "    else:\n",
        "      iban_replaced += str (10 + ord(ch)-ord('A'))\n",
        "  iban_replaced = int(iban_replaced)\n",
        "  if iban_replaced%97 == 1:\n",
        "    print(\"IBAN is valid\")\n",
        "  else:\n",
        "    print(\"IBAN is invalid\")\n"
      ],
      "execution_count": null,
      "outputs": []
    },
    {
      "cell_type": "code",
      "metadata": {
        "id": "TBp0kY5imgUD",
        "colab_type": "code",
        "colab": {}
      },
      "source": [
        "#Encoding Caesar Cipher\n",
        "text = input(\"Enter line to encrypt: \")\n",
        "shift=\"abc\"\n",
        "while (not shift.isdigit()):\n",
        "  shift = input(\"Enter the shift value(1..25):\")\n",
        "\n",
        "code=[]\n",
        "shift = int (shift)\n",
        "for letter in text:\n",
        "  if (letter.isalpha()):\n",
        "    if (letter.islower()):\n",
        "      code.append(chr(((ord(letter) + shift - 97) % 26) + 97))\n",
        "    elif (letter.isupper()):\n",
        "      code.append(chr(((ord(letter) + shift-65) % 26) + 65))\n",
        "  else:\n",
        "    code.append(letter)\n",
        "print(\"\".join(code))"
      ],
      "execution_count": null,
      "outputs": []
    },
    {
      "cell_type": "code",
      "metadata": {
        "id": "yYSL534AtkOU",
        "colab_type": "code",
        "colab": {}
      },
      "source": [
        "#String palindrome \n",
        "line = input(\"Enter the line here:\")\n",
        "line = line.replace(\" \",\"\").upper()\n",
        "if (line == \"\"):\n",
        "  print(\"It is not a palindrome\")\n",
        "else:\n",
        "  rev_str = line[::-1]\n",
        "  if (rev_str == line):\n",
        "    print(\"It is a palindrome\")\n",
        "  else:\n",
        "    print(\"It is not a palindrome\")\n"
      ],
      "execution_count": null,
      "outputs": []
    },
    {
      "cell_type": "code",
      "metadata": {
        "id": "ZyIto5I_wDCS",
        "colab_type": "code",
        "colab": {}
      },
      "source": [
        "#String anagrams\n",
        "line1 = input(\"Enter the first line here:\")\n",
        "line1 =list (line1.replace(\" \",\"\").upper())\n",
        "line2 = input(\"Enter the second line here:\")\n",
        "line2 = list (line2.replace(\" \",\"\").upper())\n",
        "line1.sort()\n",
        "line2.sort()\n",
        "flag = True\n",
        "for i in range(len(line1)):\n",
        "  if not line1[i] == line2[i]:\n",
        "    flag =False\n",
        "    break\n",
        "if (flag == False):\n",
        "  print(\"Not anagrams\")\n",
        "else:\n",
        "  print(\"Anagrams\")"
      ],
      "execution_count": null,
      "outputs": []
    },
    {
      "cell_type": "code",
      "metadata": {
        "id": "jKyyXTci19wy",
        "colab_type": "code",
        "colab": {}
      },
      "source": [
        "#Digit of Life\n",
        "birthday = input(\"Enter your birthday : \")\n",
        "sum = int (birthday)\n",
        "while (True):\n",
        "  if (sum in range(1,10)):\n",
        "    print(sum)\n",
        "    break\n",
        "  else:\n",
        "    num =sum\n",
        "    tmp=0\n",
        "    digit=0\n",
        "    while (num>0):\n",
        "      digit = num%10\n",
        "      tmp+=digit\n",
        "      num = int(num/10)\n",
        "  sum = tmp"
      ],
      "execution_count": null,
      "outputs": []
    },
    {
      "cell_type": "code",
      "metadata": {
        "id": "KPGaSGrgGutv",
        "colab_type": "code",
        "colab": {}
      },
      "source": [
        "#Find a word\n"
      ],
      "execution_count": null,
      "outputs": []
    }
  ]
}
{
  "nbformat": 4,
  "nbformat_minor": 0,
  "metadata": {
    "colab": {
      "name": "Learning_103.ipynb",
      "provenance": [],
      "authorship_tag": "ABX9TyORyD92ZvZ0jID4Imqo3Dpk",
      "include_colab_link": true
    },
    "kernelspec": {
      "name": "python3",
      "display_name": "Python 3"
    }
  },
  "cells": [
    {
      "cell_type": "markdown",
      "metadata": {
        "id": "view-in-github",
        "colab_type": "text"
      },
      "source": [
        "<a href=\"https://colab.research.google.com/github/shwethaar/Learning-Python/blob/master/Learning_103.ipynb\" target=\"_parent\"><img src=\"https://colab.research.google.com/assets/colab-badge.svg\" alt=\"Open In Colab\"/></a>"
      ]
    },
    {
      "cell_type": "code",
      "metadata": {
        "id": "bFDPofM2bO34",
        "colab_type": "code",
        "colab": {}
      },
      "source": [
        "class Stack:\n",
        "  def __init__(self):\n",
        "    self.__stackList=[]\n",
        "  def pop(self):\n",
        "    val = self.__stackList[-1]\n",
        "    del self.__stackList[-1]\n",
        "    return val\n",
        "  def push(self,val):\n",
        "    self.__stackList.append(val)\n",
        "\n",
        "stackobj = Stack()\n",
        "stackobj.push(1)\n",
        "stackobj.push(2)\n",
        "stackobj.push(3)\n",
        "print(stackobj.pop())\n",
        "print(stackobj.pop())\n",
        "print(stackobj.pop())"
      ],
      "execution_count": null,
      "outputs": []
    },
    {
      "cell_type": "code",
      "metadata": {
        "id": "PU5JGS00-HHn",
        "colab_type": "code",
        "colab": {}
      },
      "source": [
        "class ExampleClass:\n",
        "    varia = 1\n",
        "    def __init__(self, val):\n",
        "        ExampleClass.varia = val\n",
        "\n",
        "print(ExampleClass.__dict__)\n",
        "exampleObject = ExampleClass(2)\n",
        "\n",
        "print(ExampleClass.__dict__)\n",
        "print(exampleObject.__dict__)"
      ],
      "execution_count": null,
      "outputs": []
    },
    {
      "cell_type": "code",
      "metadata": {
        "id": "A3IbhJU8Ag5d",
        "colab_type": "code",
        "colab": {}
      },
      "source": [
        "class ExampleClass:\n",
        "    a = 1\n",
        "    def __init__(self):\n",
        "        self.b = 2\n",
        "\n",
        "exampleObject = ExampleClass()\n",
        "\n",
        "print(hasattr(exampleObject, 'b'))\n",
        "print(hasattr(exampleObject, 'a'))\n",
        "print(hasattr(ExampleClass, 'b'))\n",
        "print(hasattr(ExampleClass, 'a'))"
      ],
      "execution_count": null,
      "outputs": []
    },
    {
      "cell_type": "code",
      "metadata": {
        "id": "zZPiSxgkDc11",
        "colab_type": "code",
        "colab": {
          "base_uri": "https://localhost:8080/",
          "height": 67
        },
        "outputId": "bf00368a-cc2d-479d-ba11-aafd4c4ff766"
      },
      "source": [
        "class PizzaError(Exception):\n",
        "  def __init__(self, pizza, message):\n",
        "    Exception.__init__(self, message)\n",
        "    self.pizza = pizza\n",
        "\n",
        "class TooMuchCheeseError(PizzaError):\n",
        "  def __init__(self, pizza, cheese, message):\n",
        "    PizzaError.__init__(self, pizza, message)\n",
        "    self.cheese = cheese\n",
        "\n",
        "def makePizza(pizza, cheese):\n",
        "\tif pizza not in ['margherita', 'capricciosa', 'calzone']:\n",
        "\t\traise PizzaError(pizza, \"no such pizza on the menu\")\n",
        "\tif cheese > 100:\n",
        "\t\traise TooMuchCheeseError(pizza, cheese, \"too much cheese\")\n",
        "\tprint(\"Pizza ready!\")\n",
        "\n",
        "for (pz, ch) in [('calzone', 0), ('margherita', 110), ('mafia', 20)]:\n",
        "\ttry:\n",
        "\t\tmakePizza(pz, ch)\n",
        "\texcept TooMuchCheeseError as tmce:\n",
        "\t\tprint(tmce, ':', tmce.cheese)\n",
        "\texcept PizzaError as pe:\n",
        "\t\tprint(pe, ':', pe.pizza)"
      ],
      "execution_count": 5,
      "outputs": [
        {
          "output_type": "stream",
          "text": [
            "Pizza ready!\n",
            "too much cheese : 110\n",
            "no such pizza on the menu : mafia\n"
          ],
          "name": "stdout"
        }
      ]
    },
    {
      "cell_type": "code",
      "metadata": {
        "id": "wRvrLavdWplf",
        "colab_type": "code",
        "colab": {
          "base_uri": "https://localhost:8080/",
          "height": 34
        },
        "outputId": "43d1a5db-895d-4efb-da17-fa71c89d9f54"
      },
      "source": [
        "def Fib(n):\n",
        "    p = pp = 1\n",
        "    for i in range(n):\n",
        "        if i in [0, 1]:\n",
        "            yield 1\n",
        "        else:\n",
        "            n = p + pp\n",
        "            pp, p = p, n\n",
        "            yield n\n",
        "\n",
        "fibs = list(Fib(10))\n",
        "\n",
        "print(fibs)"
      ],
      "execution_count": 6,
      "outputs": [
        {
          "output_type": "stream",
          "text": [
            "[1, 1, 2, 3, 5, 8, 13, 21, 34, 55]\n"
          ],
          "name": "stdout"
        }
      ]
    }
  ]
}
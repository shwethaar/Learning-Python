{
  "nbformat": 4,
  "nbformat_minor": 0,
  "metadata": {
    "colab": {
      "name": "30 Days of Code.ipynb",
      "provenance": [],
      "collapsed_sections": [],
      "authorship_tag": "ABX9TyOXeA/LG3B3fkmiMt3a+KVl",
      "include_colab_link": true
    },
    "kernelspec": {
      "name": "python3",
      "display_name": "Python 3"
    }
  },
  "cells": [
    {
      "cell_type": "markdown",
      "metadata": {
        "id": "view-in-github",
        "colab_type": "text"
      },
      "source": [
        "<a href=\"https://colab.research.google.com/github/shwethaar/Learning-Python/blob/master/30_Days_of_Code.ipynb\" target=\"_parent\"><img src=\"https://colab.research.google.com/assets/colab-badge.svg\" alt=\"Open In Colab\"/></a>"
      ]
    },
    {
      "cell_type": "markdown",
      "metadata": {
        "id": "8RaFTwla9aj5"
      },
      "source": [
        "HackerRank's 30 Days of Code challenge.\n",
        "\n",
        "Solutions in Python 3"
      ]
    },
    {
      "cell_type": "code",
      "metadata": {
        "id": "HrxZvlyG6mkF"
      },
      "source": [
        "# Day 0 : Hello, World.\n",
        "print(input_string)"
      ],
      "execution_count": null,
      "outputs": []
    },
    {
      "cell_type": "code",
      "metadata": {
        "id": "E9h3rwHF7Z-b"
      },
      "source": [
        "# Day 1: Data Types\n",
        "i2 = int(input())\n",
        "d2 = float(input())\n",
        "s2 = input()\n",
        "\n",
        "print(i+i2)\n",
        "print(d+d2)\n",
        "print(s+s2)"
      ],
      "execution_count": null,
      "outputs": []
    },
    {
      "cell_type": "code",
      "metadata": {
        "id": "0EQ2yEAl8mZK"
      },
      "source": [
        "# Day 2: Operators\n",
        "def solve(meal_cost, tip_percent, tax_percent):\n",
        "    total = meal_cost + ((tip_percent+tax_percent)/100)*meal_cost\n",
        "    print(round(total))"
      ],
      "execution_count": null,
      "outputs": []
    },
    {
      "cell_type": "code",
      "metadata": {
        "id": "c73Lnrts6saH"
      },
      "source": [
        "# Day 3: Intro to Conditional Statement\n",
        "if N%2 !=0 :\n",
        "    print(\"Weird\")\n",
        "elif N>=2 and N<=5:\n",
        "    print(\"Not Weird\")\n",
        "elif N>=6 and N<=20:\n",
        "    print(\"Weird\")\n",
        "elif N>20:\n",
        "    print(\"Not Weird\")"
      ],
      "execution_count": null,
      "outputs": []
    },
    {
      "cell_type": "code",
      "metadata": {
        "id": "bMIcFq2H9UuQ"
      },
      "source": [
        "# Day 4: Class vs. Instance\n",
        "\n",
        "class Person:\n",
        "    def __init__(self,initialAge):\n",
        "        if initialAge>=0:\n",
        "          self.age = initialAge\n",
        "        else:\n",
        "          self.age=0\n",
        "          print(\"Age is not valid, setting age to 0.\")\n",
        "\n",
        "    def amIOld(self):\n",
        "        if self.age<13:\n",
        "          print(\"You are young.\")\n",
        "        elif self.age>=13 and self.age<18:\n",
        "          print(\"You are a teenager.\")\n",
        "        else:\n",
        "          print(\"You are old.\")\n",
        "    def yearPasses(self):\n",
        "        self.age +=1"
      ],
      "execution_count": null,
      "outputs": []
    },
    {
      "cell_type": "code",
      "metadata": {
        "id": "2UExtEZ_8-ZL"
      },
      "source": [
        "# Day 5: Loops\n",
        "for i in range(1,11):\n",
        "  print(\"{} x {} = {}\".format(n,i,(n*i)))"
      ],
      "execution_count": null,
      "outputs": []
    },
    {
      "cell_type": "code",
      "metadata": {
        "id": "jixu8-Ss9YFG"
      },
      "source": [
        "# Day 6: Let's Review\n",
        "t = int(input())\n",
        "for i in range(t):\n",
        "  s = input()\n",
        "  se=s[0::2]\n",
        "  so=s[1::2]\n",
        "  print(se+\" \"+so)\n",
        "\n",
        "#Alternative solution\n",
        "t = int(input())\n",
        "for i in range(t):\n",
        "  s = input()\n",
        "  se=[]\n",
        "  so=[]\n",
        "  for j in range(len(s)):\n",
        "    if j%2 == 0:\n",
        "      se.append(s[j])\n",
        "    else:\n",
        "      so.append(s[j])\n",
        "  print(\"\".join(se),\"\".join(so),sep=\"  \")"
      ],
      "execution_count": null,
      "outputs": []
    },
    {
      "cell_type": "code",
      "metadata": {
        "id": "cEuAMe7pXl-5"
      },
      "source": [
        "# Day 7: Arrays\n",
        "for k in arr[::-1]:\n",
        "  print(k,end=\" \")"
      ],
      "execution_count": null,
      "outputs": []
    },
    {
      "cell_type": "code",
      "metadata": {
        "id": "zoGcMnl9Vea0"
      },
      "source": [
        "# Day 8: Phone a Friend\n",
        "n = int(input())\n",
        "phone = {}\n",
        "for i in range(n):\n",
        "    entry = input().split()\n",
        "    phone[entry[0]] = entry[1]\n",
        "while True:\n",
        "  try:\n",
        "    name = input()\n",
        "    if name in phone:\n",
        "      print('{}={}'.format(name, phone[name]))\n",
        "    else:\n",
        "      print('Not found')\n",
        "  except:\n",
        "     break"
      ],
      "execution_count": null,
      "outputs": []
    },
    {
      "cell_type": "code",
      "metadata": {
        "id": "Kq8XwzZOVVKa"
      },
      "source": [
        "# Day 9: Recursion 3\n",
        "def factorial(n):\n",
        "  if n == 1 :\n",
        "    return (1)\n",
        "  else:\n",
        "    return n*factorial(n-1)"
      ],
      "execution_count": null,
      "outputs": []
    },
    {
      "cell_type": "code",
      "metadata": {
        "id": "ToZI3dYRa96-"
      },
      "source": [
        "# Day 10: Binary Numbers\n",
        "l=[]\n",
        "while n>0:\n",
        "  l.insert(0,str(n%2))\n",
        "  n=n//2\n",
        "l = \"\".join(l)\n",
        "l_consec = l.split(\"0\")\n",
        "ctr = len(l_consec[0])\n",
        "for j in l_consec[1:]:\n",
        "  if len(j)>=ctr:\n",
        "    ctr = len(j)\n",
        "print(ctr)"
      ],
      "execution_count": null,
      "outputs": []
    },
    {
      "cell_type": "code",
      "metadata": {
        "id": "xGlW5QeJIl51"
      },
      "source": [
        "# Day 11: 2D Arrays\n",
        "hgsum=[]\n",
        "for i in range(4):\n",
        "  for j in range(4):\n",
        "    hgsum.append(arr[i][j]+arr[i][j+1]+arr[i][j+2]+arr[i+1][j+1]+\\\n",
        "    arr[i+2][j]+arr[i+2][j+1]+arr[i+2][j+2])\n",
        "print(max(hgsum))"
      ],
      "execution_count": null,
      "outputs": []
    },
    {
      "cell_type": "code",
      "metadata": {
        "id": "L-Nv4-1D3vO1"
      },
      "source": [
        "# Day 12: Inheritance\n",
        "class Student(Person):\n",
        "    def __init__(self,firstName,lastName,id,scores):\n",
        "        self.firstName = firstName\n",
        "        self.lastName = lastName\n",
        "        self.idNumber = id\n",
        "        self.scores = scores\n",
        "    def calculate(self):\n",
        "        avg = sum(self.scores)/len(self.scores)\n",
        "        print(avg)\n",
        "        if avg>=90 and avg<=100:\n",
        "            return \"O\"\n",
        "        elif avg>=80 and avg<90:\n",
        "            return \"E\"\n",
        "        elif avg>=70 and avg<80:\n",
        "            return \"A\"\n",
        "        elif avg>=55 and avg<70:\n",
        "            return \"P\"\n",
        "        elif avg>=40 and avg<55:\n",
        "            return \"D\"\n",
        "        elif avg<40:\n",
        "            return \"T\""
      ],
      "execution_count": null,
      "outputs": []
    },
    {
      "cell_type": "code",
      "metadata": {
        "id": "8ERvsFaMHbC1"
      },
      "source": [
        "# Day 13: Abstract Classes\n",
        "class MyBook(Book):\n",
        "  def __init__(self,title,author,price):\n",
        "     self.title=title\n",
        "     self.author = author\n",
        "     self.price = price\n",
        "  def display(self):\n",
        "      print(\"Title:\",self.title)\n",
        "      print(\"Author:\",self.author)\n",
        "      print(\"Price:\",self.price)"
      ],
      "execution_count": null,
      "outputs": []
    },
    {
      "cell_type": "code",
      "metadata": {
        "id": "VRHe3LTzSpKc"
      },
      "source": [
        "# Day 14: Scope\n",
        "class Difference:\n",
        "    def __init__(self, a):\n",
        "        self.__elements = a\n",
        "        self.maximumDifference = 0\n",
        "    # Add your code here\n",
        "    def computeDifference(self):\n",
        "        self.maximumDifference = max(self.__elements)-min(self.__elements)"
      ],
      "execution_count": null,
      "outputs": []
    },
    {
      "cell_type": "code",
      "metadata": {
        "id": "NzFUdn_V0dE7"
      },
      "source": [
        "# Day 15: Linked List\n",
        "def insert(self,head,data):\n",
        "        if head==None:\n",
        "            self.head = Node(data)\n",
        "            self.tail =self.head\n",
        "        else:\n",
        "            newNode = Node(data)\n",
        "            self.tail.next = newNode\n",
        "            self.tail = newNode\n",
        "        return self.head"
      ],
      "execution_count": null,
      "outputs": []
    },
    {
      "cell_type": "code",
      "metadata": {
        "id": "IlE_Re0j0xGk"
      },
      "source": [
        "# Day 16: Exceptions-String to Integer\n",
        "try:\n",
        "    num = int(S)\n",
        "    print(num)\n",
        "except:\n",
        "    print(\"Bad String\")"
      ],
      "execution_count": null,
      "outputs": []
    },
    {
      "cell_type": "code",
      "metadata": {
        "id": "ig18uhP34e95"
      },
      "source": [
        "# Day 17: More Exceptions\n",
        "class Calculator:\n",
        "    def __init__():\n",
        "        self.n=0\n",
        "        self.p=0\n",
        "    def power(self,n,p):\n",
        "        if n<0 or p<0:\n",
        "            raise Exception(\"n and p should be non-negative\")\n",
        "        else:\n",
        "            return n**p"
      ],
      "execution_count": null,
      "outputs": []
    },
    {
      "cell_type": "code",
      "metadata": {
        "id": "2mk70UMZe3AP"
      },
      "source": [
        "# Day 18: Queues and Stacks\n",
        "class Solution:\n",
        "    def __init__ (self):\n",
        "        self.stack=[]\n",
        "        self.queue=[]\n",
        "    def pushCharacter(self,num):\n",
        "        self.stack.insert(0,num)\n",
        "        print(self.stack)\n",
        "    def enqueueCharacter(self,num):\n",
        "        self.queue.append(num)\n",
        "        print(self.queue)\n",
        "    def popCharacter(self):\n",
        "        return self.stack[0]\n",
        "    def dequeueCharacter(self):\n",
        "        return self.queue[0]"
      ],
      "execution_count": null,
      "outputs": []
    },
    {
      "cell_type": "code",
      "metadata": {
        "id": "Xxc5tYPg_Uus"
      },
      "source": [
        "# Day 19: Interfaces\n",
        "class Calculator(AdvancedArithmetic):\n",
        "    def divisorSum(self, n):\n",
        "        sum_div=0\n",
        "        for k in range(1,n//2 +1):\n",
        "            if n%k == 0:\n",
        "                sum_div+=k\n",
        "        return sum_div+n"
      ],
      "execution_count": null,
      "outputs": []
    },
    {
      "cell_type": "code",
      "metadata": {
        "id": "21KNtUbP7vLV"
      },
      "source": [
        "#Day 20: Sorting\n",
        "swaps=0\n",
        "for k in range(n):\n",
        "    for j in range(0,n-1-k):\n",
        "        if a[j]>a[j+1]:\n",
        "            a[j],a[j+1]=a[j+1],a[j]\n",
        "            swaps+=1\n",
        "print(\"Array is sorted in {} swaps.\\nFirst Element: {}\\nLast Element: {}\".format(swaps,a[0],a[-1]))"
      ],
      "execution_count": null,
      "outputs": []
    },
    {
      "cell_type": "code",
      "metadata": {
        "id": "IkvH1VnevYqf"
      },
      "source": [
        "#Day 22:Binary Search Trees\r\n",
        " def getHeight(self,root):\r\n",
        "    if root is None:\r\n",
        "        return -1\r\n",
        "    else:\r\n",
        "        return (1+max(self.getHeight(root.left),self.getHeight(root.right)))"
      ],
      "execution_count": null,
      "outputs": []
    },
    {
      "cell_type": "code",
      "metadata": {
        "id": "w1gqhbiFvYOn"
      },
      "source": [
        "#Day 23: BST Level-Order Traversal\r\n",
        "def levelOrder(self,root):\r\n",
        "        #Write your code here\r\n",
        "        queue = []\r\n",
        "        queue.append(root)\r\n",
        "        while(len(queue)>0):\r\n",
        "            node = queue.pop(0)\r\n",
        "            print(node.data,end=\" \")\r\n",
        "            if node.left:\r\n",
        "                queue.append(node.left)\r\n",
        "            if node.right:\r\n",
        "                queue.append(node.right)"
      ],
      "execution_count": null,
      "outputs": []
    },
    {
      "cell_type": "code",
      "metadata": {
        "id": "odKGN2B5kQ1g"
      },
      "source": [
        "#Day 24: More Linked Lists\r\n",
        " def removeDuplicates(self,head):\r\n",
        "        if head is None or head.next is None:\r\n",
        "            return head\r\n",
        "        nextnode = head.next\r\n",
        "        current = head\r\n",
        "        elements = {}\r\n",
        "        while nextnode is not None:\r\n",
        "            if current.data not in elements:\r\n",
        "                elements[current] = True\r\n",
        "            if nextnode.data in elements:\r\n",
        "                current.next = nextnode.next\r\n",
        "                nextnode = nextnode.next\r\n",
        "                continue\r\n",
        "            current = nextnode\r\n",
        "            nextnode = nextnode.next"
      ],
      "execution_count": null,
      "outputs": []
    },
    {
      "cell_type": "code",
      "metadata": {
        "id": "o5-YXQggvZe7"
      },
      "source": [
        "#Day 25: Running Time and COmplexity\r\n",
        "import math\r\n",
        "n = int(input())\r\n",
        "for k in range(n):\r\n",
        "    num = int(input())\r\n",
        "    flag=False\r\n",
        "    if num==1:\r\n",
        "        print(\"Not prime\")\r\n",
        "        continue\r\n",
        "    for j in range(2,math.floor(math.sqrt(num))+1):\r\n",
        "      if num%j == 0:\r\n",
        "        flag=True\r\n",
        "        break\r\n",
        "    if flag==True:\r\n",
        "      print(\"Not prime\")\r\n",
        "    else:\r\n",
        "      print(\"Prime\")"
      ],
      "execution_count": null,
      "outputs": []
    },
    {
      "cell_type": "code",
      "metadata": {
        "id": "JBmnyJ9cTIOp"
      },
      "source": [
        "#Day 26: Nested Logic\n",
        "returnDate = list(map(int,input().split()))\n",
        "expDate = list(map(int,input().split()))\n",
        "fine=0\n",
        "if returnDate[2]>expDate[2]:\n",
        "    fine=10000\n",
        "elif returnDate[2]==expDate[2]:\n",
        "    if returnDate[1]>expDate[1]:\n",
        "        fine = 500*(returnDate[1]-expDate[1])\n",
        "    elif returnDate[0]>expDate[0]:\n",
        "        fine = 15*(returnDate[0]-expDate[0])\n",
        "    else:\n",
        "        fine=0\n",
        "else:\n",
        "    fine=0\n",
        "print(fine)"
      ],
      "execution_count": null,
      "outputs": []
    },
    {
      "cell_type": "code",
      "metadata": {
        "id": "RAsxWfhiTNpk"
      },
      "source": [
        "#Day 27: Testing\r\n",
        "class TestDataEmptyArray(object):\r\n",
        "    def get_array():\r\n",
        "        a = []\r\n",
        "        return a\r\n",
        "\r\n",
        "class TestDataUniqueValues(object):\r\n",
        "    def get_array():\r\n",
        "        a=[3,4,5,2,1]\r\n",
        "        return a\r\n",
        "    def get_expected_result():\r\n",
        "        return 4        \r\n",
        "\r\n",
        "class TestDataExactlyTwoDifferentMinimums(object):\r\n",
        "    def get_array():\r\n",
        "        a = [3,4,1,5,2,1,]\r\n",
        "        return a\r\n",
        "    def get_expected_result():\r\n",
        "        return 2"
      ],
      "execution_count": null,
      "outputs": []
    },
    {
      "cell_type": "code",
      "metadata": {
        "id": "bgJDWimVvFat"
      },
      "source": [
        "#Day 28: RegEx, Patterns, and Intro to Databases\r\n",
        "for N_itr in range(N):\r\n",
        "        firstNameEmailID = input().split()\r\n",
        "\r\n",
        "        firstName = firstNameEmailID[0]\r\n",
        "\r\n",
        "        emailID = firstNameEmailID[1]\r\n",
        "        if emailID.endswith(\"@gmail.com\"):\r\n",
        "            names.append(firstName)\r\n",
        "    for k in sorted(names):\r\n",
        "        print(k)"
      ],
      "execution_count": null,
      "outputs": []
    },
    {
      "cell_type": "code",
      "metadata": {
        "id": "WFBkIIQuva_J"
      },
      "source": [
        "#Day 29:Bitwise AND\r\n",
        "def bitwise_maxval(n,k):\r\n",
        "    maxval = 0\r\n",
        "    for i in range(1,n+1):\r\n",
        "        for j in range(2,i):\r\n",
        "            bitwise = i&j\r\n",
        "            if bitwise == k-1:\r\n",
        "                return bitwise    \r\n",
        "            if maxval<bitwise<k :\r\n",
        "                maxval = bitwise\r\n",
        "    return(maxval)"
      ],
      "execution_count": null,
      "outputs": []
    }
  ]
}
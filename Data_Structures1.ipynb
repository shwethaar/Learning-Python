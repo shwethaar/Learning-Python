{
  "nbformat": 4,
  "nbformat_minor": 0,
  "metadata": {
    "colab": {
      "name": "Data Structures.ipynb",
      "provenance": [],
      "collapsed_sections": [],
      "authorship_tag": "ABX9TyNOFNV6WLzGvI7NerByobkZ",
      "include_colab_link": true
    },
    "kernelspec": {
      "name": "python3",
      "display_name": "Python 3"
    }
  },
  "cells": [
    {
      "cell_type": "markdown",
      "metadata": {
        "id": "view-in-github",
        "colab_type": "text"
      },
      "source": [
        "<a href=\"https://colab.research.google.com/github/shwethaar/Learning-Python/blob/master/Data_Structures1.ipynb\" target=\"_parent\"><img src=\"https://colab.research.google.com/assets/colab-badge.svg\" alt=\"Open In Colab\"/></a>"
      ]
    },
    {
      "cell_type": "markdown",
      "metadata": {
        "id": "P6--sVcOk7Qa"
      },
      "source": [
        "Singly Linked List\n",
        "\n",
        "class Node:represents a node of the LL. self.data stores data of the node and self.next stores a reference to the next node of the list."
      ]
    },
    {
      "cell_type": "code",
      "metadata": {
        "id": "emcSlFRRyRYF"
      },
      "source": [
        "class Node:\n",
        "\n",
        "  def __init__(self,dataToStore=None):\n",
        "    self.data = dataToStore\n",
        "    self.next = None\n",
        "\n",
        "class SingleLL:\n",
        "\n",
        "  def __init__(self):\n",
        "    self.head = None\n",
        "    self.tail = None\n",
        "    self.length = None\n",
        "\n",
        "  def insertAtTail(self,toInsert):\n",
        "    if self.length == None:\n",
        "      self.head = Node(toInsert)\n",
        "      self.tail = self.head\n",
        "      self.length = 1\n",
        "      print(\"First element inserted\")\n",
        "    else:\n",
        "      newNode = Node(toInsert)\n",
        "      self.tail.next = newNode\n",
        "      self.tail = newNode\n",
        "      self.length +=1\n",
        "      print(\"Insertion done at tail\")\n",
        "\n",
        "  def insertAtHead(self,toInsert):\n",
        "    newNode = Node(toInsert)\n",
        "    newNode.next = self.head\n",
        "    self.head = newNode\n",
        "    self.length+=1\n",
        "\n",
        "  def removeElement(self,element):\n",
        "\n",
        "  def printList(self):\n",
        "    list_nodes = self.head\n",
        "    print(\"Elements in list = \",self.length)\n",
        "    print(list_nodes.data,end=\"\")\n",
        "    while(list_nodes.next != None):\n",
        "      list_nodes = list_nodes.next\n",
        "      print(\"-->\"+list_nodes.data,end=\"\")\n",
        "    print()\n",
        "    \n",
        "sll = SingleLL()\n",
        "sll.insertAtTail(\"one\")\n",
        "sll.printList()\n",
        "sll.insertAtHead(\"zero\")\n",
        "sll.printList()"
      ],
      "execution_count": null,
      "outputs": []
    }
  ]
}
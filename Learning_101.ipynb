{
  "nbformat": 4,
  "nbformat_minor": 0,
  "metadata": {
    "colab": {
      "name": "Learning_101.ipynb",
      "provenance": [],
      "collapsed_sections": [],
      "authorship_tag": "ABX9TyO6DO3BddpENIsDlGD70by/",
      "include_colab_link": true
    },
    "kernelspec": {
      "name": "python3",
      "display_name": "Python 3"
    }
  },
  "cells": [
    {
      "cell_type": "markdown",
      "metadata": {
        "id": "view-in-github",
        "colab_type": "text"
      },
      "source": [
        "<a href=\"https://colab.research.google.com/github/shwethaar/Learning-Python/blob/master/Learning_101.ipynb\" target=\"_parent\"><img src=\"https://colab.research.google.com/assets/colab-badge.svg\" alt=\"Open In Colab\"/></a>"
      ]
    },
    {
      "cell_type": "code",
      "metadata": {
        "id": "KYGGNwwHTVxh",
        "colab_type": "code",
        "colab": {}
      },
      "source": [
        "pirnt(\"Hello, Python\")\n"
      ],
      "execution_count": null,
      "outputs": []
    },
    {
      "cell_type": "code",
      "metadata": {
        "id": "H921GN-nWsG6",
        "colab_type": "code",
        "colab": {}
      },
      "source": [
        "print(0.00000000000004)"
      ],
      "execution_count": null,
      "outputs": []
    },
    {
      "cell_type": "code",
      "metadata": {
        "id": "IHZ0zcn57ZoF",
        "colab_type": "code",
        "colab": {}
      },
      "source": [
        "print(\"I like \\\"Monty Python\\\"\")"
      ],
      "execution_count": null,
      "outputs": []
    },
    {
      "cell_type": "code",
      "metadata": {
        "id": "0kKq1PgE7ovg",
        "colab_type": "code",
        "colab": {}
      },
      "source": [
        "print('I\\'m Monty Python.')\n",
        "print(\"I'm M0nty Python\")"
      ],
      "execution_count": null,
      "outputs": []
    },
    {
      "cell_type": "code",
      "metadata": {
        "id": "KVfV0Rgl8B8j",
        "colab_type": "code",
        "colab": {}
      },
      "source": [
        "print(True > False)\n",
        "print(True < False)"
      ],
      "execution_count": null,
      "outputs": []
    },
    {
      "cell_type": "code",
      "metadata": {
        "id": "QIO4MpnB8gX3",
        "colab_type": "code",
        "colab": {}
      },
      "source": [
        "print('\"I\\'m\"\\n\"\"learning\"\"\\n\"\"\"Python\"\"\" ')"
      ],
      "execution_count": null,
      "outputs": []
    },
    {
      "cell_type": "code",
      "metadata": {
        "id": "3lzVM9L6DpbM",
        "colab_type": "code",
        "colab": {}
      },
      "source": [
        "print((5 * ((25 % 13) + 100) / (2 * 13)) // 2)"
      ],
      "execution_count": null,
      "outputs": []
    },
    {
      "cell_type": "code",
      "metadata": {
        "id": "PA88IqULFaWM",
        "colab_type": "code",
        "colab": {}
      },
      "source": [
        "var = \"3.7.1\"\n",
        "print(\"Python version: \" + var)"
      ],
      "execution_count": null,
      "outputs": []
    },
    {
      "cell_type": "code",
      "metadata": {
        "id": "TU9FZgtZMEDS",
        "colab_type": "code",
        "colab": {}
      },
      "source": [
        "round(2.676,5)"
      ],
      "execution_count": null,
      "outputs": []
    },
    {
      "cell_type": "code",
      "metadata": {
        "id": "yIxztiQDt3C6",
        "colab_type": "code",
        "colab": {}
      },
      "source": [
        "#printing in multiple lines using a single statemnt\n",
        "print(\"\"\" hello\n",
        "how are you\n",
        "-- By adele\"\"\")"
      ],
      "execution_count": null,
      "outputs": []
    },
    {
      "cell_type": "code",
      "metadata": {
        "id": "DyIcjci2jWe1",
        "colab_type": "code",
        "colab": {}
      },
      "source": [
        "blocks = int(input(\"Enter the number of blocks: \"))\n",
        "ctr=1\n",
        "height=0\n",
        "while ((blocks-ctr)>=0):\n",
        "  blocks-=ctr\n",
        "  ctr+=1\n",
        "  height+=1\n",
        "print(\"The height of the pyramid:\", height)"
      ],
      "execution_count": null,
      "outputs": []
    },
    {
      "cell_type": "code",
      "metadata": {
        "id": "vl0So239tJvC",
        "colab_type": "code",
        "colab": {
          "base_uri": "https://localhost:8080/",
          "height": 34
        },
        "outputId": "bd08cc35-a7eb-4247-86b0-6785355cb170"
      },
      "source": [
        "#bitwise operations\n",
        "x = 4\n",
        "y = 1\n",
        "a = x & y\n",
        "b = x | y\n",
        "c = ~x\n",
        "d = x ^ 5\n",
        "e = x >> 2\n",
        "f = x << 2\n",
        "print(a, b, c, d, e, f)"
      ],
      "execution_count": null,
      "outputs": [
        {
          "output_type": "stream",
          "text": [
            "0 5 -5 1 1 16\n"
          ],
          "name": "stdout"
        }
      ]
    },
    {
      "cell_type": "code",
      "metadata": {
        "id": "VRXXja1_uDqM",
        "colab_type": "code",
        "colab": {}
      },
      "source": [
        "## Lists and operations \n",
        "numbers=[2,4,5,6,9,12]\n",
        "print(numbers[3])\n",
        "numbers[5]=23\n",
        "print(numbers)\n",
        "numbers[2]=numbers[5]\n",
        "print(numbers)\n",
        "print(len(numbers))\n",
        "print(numbers[-2])\n",
        "print(\"List is: \",numbers)\n",
        "del numbers[5]\n",
        "print(numbers)\n",
        "numbers.append(45)\n",
        "print(numbers)\n",
        "numbers.insert(2,3)\n",
        "print(numbers)\n",
        "numbers.insert(0,1)\n",
        "print(numbers)"
      ],
      "execution_count": null,
      "outputs": []
    },
    {
      "cell_type": "code",
      "metadata": {
        "id": "yGmoBxPT2a1d",
        "colab_type": "code",
        "colab": {
          "base_uri": "https://localhost:8080/",
          "height": 84
        },
        "outputId": "b48610ff-024e-42b8-91f6-a55082e47920"
      },
      "source": [
        "myList = [] # creating an empty list\n",
        "for i in range(5):\n",
        "  myList.insert(0,i + 1)\n",
        "print(myList)#[5,4,3,2,1]\n",
        "total=0\n",
        "for i in range(len(myList)):\n",
        "  total+=myList[i]\n",
        "print(total)\n",
        "total=0\n",
        "#Same sum of list but in diff method\n",
        "for i in myList:\n",
        "  total+=i\n",
        "print(total)\n",
        "#reversing list by swapping elements\n",
        "length=len(myList)\n",
        "for i in range(length//2):\n",
        "  myList[i],myList[length-i-1]= myList[length-i-1],myList[i]\n",
        "print(myList)"
      ],
      "execution_count": null,
      "outputs": [
        {
          "output_type": "stream",
          "text": [
            "[5, 4, 3, 2, 1]\n",
            "15\n",
            "15\n",
            "[1, 2, 3, 4, 5]\n"
          ],
          "name": "stdout"
        }
      ]
    },
    {
      "cell_type": "code",
      "metadata": {
        "id": "890K3L6kH5P8",
        "colab_type": "code",
        "colab": {
          "base_uri": "https://localhost:8080/",
          "height": 50
        },
        "outputId": "88316fe6-967f-43e0-a854-8b1a5c77431f"
      },
      "source": [
        "#Bubble Sort\n",
        "num = [8,10,6,3,4]\n",
        "swapped=True\n",
        "while swapped:\n",
        "  swapped= False\n",
        "  for i in range(len(num)-1):\n",
        "    if(num[i] >num[i+1] ):\n",
        "      swapped= True\n",
        "      num[i],num[i+1]= num[i+1],num[i]\n",
        "print(num)\n",
        "# alternate\n",
        "num.sort()\n",
        "print(num)\n"
      ],
      "execution_count": null,
      "outputs": [
        {
          "output_type": "stream",
          "text": [
            "[3, 4, 6, 8, 10]\n",
            "[3, 4, 6, 8, 10]\n"
          ],
          "name": "stdout"
        }
      ]
    },
    {
      "cell_type": "code",
      "metadata": {
        "id": "Y2llhUn2PAmW",
        "colab_type": "code",
        "colab": {}
      },
      "source": [
        ""
      ],
      "execution_count": null,
      "outputs": []
    }
  ]
}
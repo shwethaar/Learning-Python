{
  "nbformat": 4,
  "nbformat_minor": 0,
  "metadata": {
    "colab": {
      "name": "Practice.ipynb",
      "provenance": [],
      "collapsed_sections": [],
      "authorship_tag": "ABX9TyPmPbZ1RJATEU4ZZijPRSMs",
      "include_colab_link": true
    },
    "kernelspec": {
      "name": "python3",
      "display_name": "Python 3"
    }
  },
  "cells": [
    {
      "cell_type": "markdown",
      "metadata": {
        "id": "view-in-github",
        "colab_type": "text"
      },
      "source": [
        "<a href=\"https://colab.research.google.com/github/shwethaar/Learning-Python/blob/master/Practice.ipynb\" target=\"_parent\"><img src=\"https://colab.research.google.com/assets/colab-badge.svg\" alt=\"Open In Colab\"/></a>"
      ]
    },
    {
      "cell_type": "code",
      "metadata": {
        "id": "Ycb2LWXgJrYa",
        "colab_type": "code",
        "colab": {}
      },
      "source": [
        "import math\n",
        "radius = float(input(\"Enter radius:\"))\n",
        "area = math.pi*radius*radius\n",
        "perimeter = 2*math.pi*radius\n",
        "print(\"Area = {}\\nPerimeter = {}\".format(area,perimeter))"
      ],
      "execution_count": null,
      "outputs": []
    },
    {
      "cell_type": "code",
      "metadata": {
        "id": "2spfl7auKgKv",
        "colab_type": "code",
        "colab": {}
      },
      "source": [
        "#Area of triangle\n",
        "s1 = float(input(\"Enter the first side:\"))\n",
        "s2 = float(input(\"Enter the second side:\"))\n",
        "s3 = float(input(\"Enter the third side:\"))\n",
        "\n",
        "s = (s1+s2+s3)/2\n",
        "area = math.sqrt((s-s1)*(s-s2)*(s-s3)*s)\n",
        "print(area,\"\")"
      ],
      "execution_count": null,
      "outputs": []
    },
    {
      "cell_type": "code",
      "metadata": {
        "id": "fLHRoWVR6yRK",
        "colab_type": "code",
        "colab": {}
      },
      "source": [
        "#Percentage of marks\n",
        "m1 = float(input(\"Enter the first marks:\"))\n",
        "m2 = float(input(\"Enter the second marks:\"))\n",
        "m3 = float(input(\"Enter the third marks:\"))\n",
        "m4 = float(input(\"Enter the fourth marks:\"))\n",
        "m5 = float(input(\"Enter the fifth marks:\"))\n",
        "print(\"Percentage: \",((m1+m2+m3+m4+m5)/5))\n"
      ],
      "execution_count": null,
      "outputs": []
    },
    {
      "cell_type": "code",
      "metadata": {
        "id": "LnwFrcrF7u-P",
        "colab_type": "code",
        "colab": {}
      },
      "source": [
        "#Distance conversion\n",
        "dist_km = float(input(\"Enter distance in kilometres: \"))\n",
        "dist_m = dist_km *1000\n",
        "dist_cm = dist_m*100\n",
        "dist_feet = dist_km*3280.84\n",
        "dist_in = dist_feet *12\n",
        "print(\"Distance in metres:{} m \".format(dist_m))\n",
        "print(\"Distance in centimetres:{} m \".format(dist_cm))\n",
        "print(\"Distance in feet:{} m \".format(dist_feet))\n",
        "print(\"Distance in inches:{} m \".format(dist_in))"
      ],
      "execution_count": null,
      "outputs": []
    },
    {
      "cell_type": "code",
      "metadata": {
        "id": "KpDjUaRj9A0Q",
        "colab_type": "code",
        "colab": {}
      },
      "source": [
        "#Swapping using temp variable\n",
        "a = int(input(\"Enter the first number: \"))\n",
        "b = int(input(\"Enter the first number: \"))\n",
        "temp = b\n",
        "b = a\n",
        "a = temp\n",
        "print(\"Swapped values: \")\n",
        "print(\"a:{}\\nb:{}\".format(a,b))"
      ],
      "execution_count": null,
      "outputs": []
    },
    {
      "cell_type": "code",
      "metadata": {
        "id": "hNUAd3l397tZ",
        "colab_type": "code",
        "colab": {}
      },
      "source": [
        "#Swapping without temp variable\n",
        "a = int(input(\"Enter the first number: \"))\n",
        "b = int(input(\"Enter the first number: \"))\n",
        "b=a+b\n",
        "a=b-a\n",
        "b=b-a\n",
        "print(\"Swapped values: \")\n",
        "print(\"a:{}\\nb:{}\".format(a,b))"
      ],
      "execution_count": null,
      "outputs": []
    },
    {
      "cell_type": "code",
      "metadata": {
        "id": "mMzSWCVA-chh",
        "colab_type": "code",
        "colab": {}
      },
      "source": [
        "#Days conversion\n",
        "days = int(input(\"Enter the no. of days: \"))\n",
        "year = days//365\n",
        "days = days%365\n",
        "week = days//7\n",
        "d = days%7\n",
        "print(\"{} years {} weeks {}days\".format(year,week,d))"
      ],
      "execution_count": null,
      "outputs": []
    },
    {
      "cell_type": "code",
      "metadata": {
        "id": "kyxrjBOwI5Nj",
        "colab_type": "code",
        "colab": {}
      },
      "source": [
        ""
      ],
      "execution_count": null,
      "outputs": []
    }
  ]
}